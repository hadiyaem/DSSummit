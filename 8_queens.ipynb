{
  "nbformat": 4,
  "nbformat_minor": 0,
  "metadata": {
    "colab": {
      "name": "8 queens",
      "provenance": [],
      "authorship_tag": "ABX9TyMb2dAO1I5IstE2xLgFb9eu",
      "include_colab_link": true
    },
    "kernelspec": {
      "name": "python3",
      "display_name": "Python 3"
    }
  },
  "cells": [
    {
      "cell_type": "markdown",
      "metadata": {
        "id": "view-in-github",
        "colab_type": "text"
      },
      "source": [
        "<a href=\"https://colab.research.google.com/github/shrikant78/DSSummit/blob/master/8_queens.ipynb\" target=\"_parent\"><img src=\"https://colab.research.google.com/assets/colab-badge.svg\" alt=\"Open In Colab\"/></a>"
      ]
    },
    {
      "cell_type": "code",
      "metadata": {
        "id": "48u6_I8At8aq",
        "colab_type": "code",
        "colab": {}
      },
      "source": [
        "import random\n",
        "import numpy as np\n",
        "from numpy.random import choice\n",
        "import pandas as pd"
      ],
      "execution_count": 1,
      "outputs": []
    },
    {
      "cell_type": "code",
      "metadata": {
        "id": "0DbyD2TgvupF",
        "colab_type": "code",
        "colab": {}
      },
      "source": [
        "def initial_solutions(pop):\n",
        "    secure_random = random.SystemRandom()\n",
        "    totalPopulation = pop\n",
        "    populationData = []\n",
        "    fitnessData = []\n",
        "    secure_random = random.SystemRandom()\n",
        "    for outloop in range(totalPopulation):\n",
        "        randomData = []\n",
        "        for inloop in range(8):\n",
        "            selectedData = secure_random.choice([0,1,2,3,4,5,6,7])\n",
        "            randomData.append(selectedData)\n",
        "        populationData.append(randomData)\n",
        "        fitnessData.append(fitment(randomData))\n",
        "    probDataFrame = pd.DataFrame({'String':populationData,'FitnessScore':fitnessData})\n",
        "    probDataFrame = probDataFrame.sort_values(['FitnessScore'],ascending=True)\n",
        "    probDataFrame = probDataFrame.reset_index(drop=True)\n",
        "    return probDataFrame, populationData, fitnessData"
      ],
      "execution_count": 2,
      "outputs": []
    },
    {
      "cell_type": "code",
      "metadata": {
        "id": "gUjvwxK1v1lV",
        "colab_type": "code",
        "colab": {}
      },
      "source": [
        "def fitment(array):\n",
        "    board = np.zeros(shape=(8, 8))\n",
        "    #example = [0, 7, 0, 3, 1, 2, 2, 4]\n",
        "    for i in range(8):\n",
        "        board[array[i],i]=1   \n",
        "    row_count=0\n",
        "    fitness_score = 0\n",
        "    #check the columns and rows\n",
        "    for row_num in range(8):\n",
        "        row_count = 0\n",
        "        for col_num in range(8):\n",
        "            row_count = board[row_num,col_num] + row_count\n",
        "        if row_count > 1 :\n",
        "            fitness_score = fitness_score + int(row_count)\n",
        "    #print (fitness_score)\n",
        "    fitness_score = fitness_score + diaganoal_check(board)\n",
        "    #print (fitness_score)\n",
        "    return fitness_score"
      ],
      "execution_count": 3,
      "outputs": []
    },
    {
      "cell_type": "code",
      "metadata": {
        "id": "wjOkR8o2v6xH",
        "colab_type": "code",
        "colab": {}
      },
      "source": [
        "def return_board(array):\n",
        "    board = np.zeros(shape=(8, 8))\n",
        "    #example = [0, 7, 0, 3, 1, 2, 2, 4]\n",
        "    for i in range(8):\n",
        "        board[array[i],i]=1\n",
        "    return board"
      ],
      "execution_count": 4,
      "outputs": []
    },
    {
      "cell_type": "code",
      "metadata": {
        "id": "xiE3GrVmv9M8",
        "colab_type": "code",
        "colab": {}
      },
      "source": [
        "def diaganoal_check(board):\n",
        "#Left to right diagonal\n",
        "    diagonal_score = 0\n",
        "    if (board[6,0]+board[7,1]) > 1 :\n",
        "        diagonal_score = diagonal_score +1\n",
        "    if (board[5,0]+board[6,1]+board[7,2]) > 1:\n",
        "        diagonal_score = diagonal_score +1\n",
        "    if (board[4,0]+board[5,1]+board[6,2]+board[7,3]) > 1:\n",
        "        diagonal_score = diagonal_score +1\n",
        "    if (board[3,0]+board[4,1]+board[5,2]+board[6,3]+board[7,4]) > 1:\n",
        "        diagonal_score = diagonal_score +1\n",
        "    if (board[2,0]+board[3,1]+board[4,2]+board[5,3]+board[6,4]+board[7,5]) > 1:\n",
        "        diagonal_score = diagonal_score +1\n",
        "    if (board[1,0]+board[2,1]+board[3,2]+board[4,3]+board[5,4]+board[6,5]+board[7,6]) > 1:\n",
        "        diagonal_score = diagonal_score +1\n",
        "    if (board[0,0]+board[1,1]+board[2,2]+board[3,3]+board[4,4]+board[5,5]+board[6,6]+board[7,7]) > 1:\n",
        "        diagonal_score = diagonal_score +1\n",
        "    if (board[0,1]+board[1,2]+board[2,3]+board[3,4]+board[4,5]+board[5,6]+board[6,7]) > 1:\n",
        "        diagonal_score = diagonal_score +1\n",
        "    if (board[0,2]+board[1,3]+board[2,4]+board[3,5]+board[4,6]+board[5,7]) > 1:\n",
        "        diagonal_score = diagonal_score +1\n",
        "    if (board[0,3]+board[1,4]+board[2,5]+board[3,6]+board[4,7]) > 1:\n",
        "        diagonal_score = diagonal_score +1\n",
        "    if (board[0,4]+board[1,5]+board[2,6]+board[3,7]) > 1:\n",
        "        diagonal_score = diagonal_score +1\n",
        "    if (board[0,5]+board[1,6]+board[2,7]) > 1:\n",
        "        diagonal_score = diagonal_score +1\n",
        "    if (board[0,6]+board[1,7]) > 1:\n",
        "        diagonal_score = diagonal_score +1\n",
        "#Right to left \n",
        "    if (board[0,1]+board[1,0]) > 1:\n",
        "        diagonal_score = diagonal_score +1\n",
        "    if (board[0,2]+board[1,1]+board[2,0]) > 1:\n",
        "        diagonal_score = diagonal_score +1\n",
        "    if (board[0,3]+board[1,2]+board[2,1]+board[3,0]) > 1:\n",
        "        diagonal_score = diagonal_score +1\n",
        "    if (board[0,4]+board[1,3]+board[2,2]+board[3,1]+board[4,0]) > 1:\n",
        "        diagonal_score = diagonal_score +1\n",
        "    if (board[0,5]+board[1,4]+board[2,3]+board[3,2]+board[4,1]+board[5,0]) > 1:\n",
        "        diagonal_score = diagonal_score +1\n",
        "    if (board[0,6]+board[1,5]+board[2,4]+board[3,3]+board[4,2]+board[5,1]+board[6,0]) > 1:\n",
        "        diagonal_score = diagonal_score +1\n",
        "    if (board[0,7]+board[1,6]+board[2,5]+board[3,4]+board[4,3]+board[5,2]+board[6,1]+board[7,0]) > 1:\n",
        "        diagonal_score = diagonal_score +1\n",
        "    if (board[1,7]+board[2,6]+board[3,5]+board[4,4]+board[5,3]+board[6,2]+board[7,1]) > 1:\n",
        "        diagonal_score = diagonal_score +1\n",
        "    if (board[2,7]+board[3,6]+board[4,5]+board[5,4]+board[6,3]+board[7,2]) > 1:\n",
        "        diagonal_score = diagonal_score +1\n",
        "    if (board[3,7]+board[4,6]+board[5,5]+board[6,4]+board[7,3]) > 1:\n",
        "        diagonal_score = diagonal_score +1\n",
        "    if (board[4,7]+board[5,6]+board[6,5]+board[7,4]) > 1:\n",
        "        diagonal_score = diagonal_score +1\n",
        "    if (board[5,7]+board[6,6]+board[7,5]) > 1:\n",
        "        diagonal_score = diagonal_score +1\n",
        "    return diagonal_score"
      ],
      "execution_count": 5,
      "outputs": []
    },
    {
      "cell_type": "code",
      "metadata": {
        "id": "xDgLMfp5wA3x",
        "colab_type": "code",
        "colab": {
          "base_uri": "https://localhost:8080/",
          "height": 340
        },
        "outputId": "89127834-14d4-4b41-cce9-a36b448012ca"
      },
      "source": [
        "#This is execution\n",
        "from datetime import datetime\n",
        "target = 0\n",
        "crossOverPoint = 4\n",
        "generationCount = 1000\n",
        "initial_population = 15\n",
        "secure_random = random.SystemRandom()\n",
        "#Initialize solutions\n",
        "(probDataFrame, populationData, fitnessData) = initial_solutions(initial_population)\n",
        "#print(\"Random Best solution1: \" + str(probDataFrame[0:1][\"String\"].values[0]) + \" with score \" + str(probDataFrame[0:1][\"FitnessScore\"].values[0]))\n",
        "#print(\"Random Best solution2: \" + str(probDataFrame[1:2][\"String\"].values[0]) + \" with score \" + str(probDataFrame[1:2][\"FitnessScore\"].values[0]))\n",
        "print(probDataFrame)\n",
        "timeNow = datetime.now()\n",
        "print(\"Starting the Genetic Computing:\" + str(timeNow))\n",
        "#Start GA with crossover and mutation\n",
        "for loop in range(generationCount):\n",
        "    boards=[]\n",
        "    boards.append(probDataFrame[0:1][\"String\"].values[0])\n",
        "    boards.append(probDataFrame[1:2][\"String\"].values[0])\n",
        "    #print(boards)\n",
        "    parent1_score = fitment(boards[0])\n",
        "    parent2_score = fitment(boards[1])\n",
        "    if (parent1_score==target or parent2_score==target ):\n",
        "        print('winner', return_board(boards[0]), ' ',return_board(boards[1]))\n",
        "        break\n",
        "    #crossover by creating 2 variants from parents\n",
        "    child1 = boards[0][0:crossOverPoint]+boards[1][crossOverPoint:]\n",
        "    child2 = boards[1][0:crossOverPoint]+boards[0][crossOverPoint:]\n",
        "    #Mutating one random digit\n",
        "    child1[random.randint(0,7)] = secure_random.choice([0,1,2,3,4,5,6,7])\n",
        "    child2[random.randint(0,7)] = secure_random.choice([0,1,2,3,4,5,6,7])\n",
        "    #print('loop :',loop,' Child 1 : ' , child1, fitment(child1), ' Chilld2 : ', child2, fitment(child2))\n",
        "    child1_score = fitment(child1)\n",
        "    child2_score = fitment(child2)\n",
        "    #if ( child1_score < parent1_score or  child1_score < parent2_score) :\n",
        "    #   populationData.append(child1)\n",
        "    #   fitnessData.append(child1_score)\n",
        "    #   print('loop :',loop,'Appending Child 1 : ' ,child1, child1_score)\n",
        "    #if ( child2_score < parent1_score or child2_score < parent2_score) :\n",
        "    #   populationData.append(child1)\n",
        "    #   fitnessData.append(child1_score)\n",
        "    #   print('loop :',loop,'Appending Child 2 : ' ,child2, child2_score)    \n",
        "    \n",
        "    populationData.append(child1)\n",
        "    fitnessData.append(child1_score)\n",
        "    #print('loop :',loop,'Appending Child 1 : ' ,child1, child1_score)  \n",
        "    populationData.append(child2)\n",
        "    fitnessData.append(child2_score)\n",
        "    #print('loop :',loop,'Appending Child 2 : ' ,child2, child1_score)  \n",
        "    probDataFrame = pd.DataFrame({'String':populationData,'FitnessScore':fitnessData})\n",
        "    probDataFrame = probDataFrame.sort_values(['FitnessScore'],ascending=True)\n",
        "    probDataFrame = probDataFrame.reset_index(drop=True)\n",
        "\n",
        "timeNow = datetime.now()\n",
        "print(\"Ending the Genetic Computing:\" + str(timeNow) +' after loops : ' + str(loop))\n",
        "print(\"Best solution: \" + str(boards[0]) + \"Best score: \" + str(parent1_score) )"
      ],
      "execution_count": 12,
      "outputs": [
        {
          "output_type": "stream",
          "text": [
            "                      String  FitnessScore\n",
            "0   [7, 7, 5, 4, 1, 7, 1, 0]             6\n",
            "1   [2, 4, 6, 3, 3, 1, 0, 0]             6\n",
            "2   [6, 5, 0, 6, 3, 6, 7, 7]             7\n",
            "3   [0, 7, 7, 0, 2, 4, 3, 5]             7\n",
            "4   [5, 3, 6, 2, 3, 4, 3, 1]             7\n",
            "5   [0, 0, 5, 3, 4, 6, 4, 0]             7\n",
            "6   [7, 2, 3, 0, 0, 5, 7, 5]             8\n",
            "7   [5, 0, 7, 4, 1, 1, 5, 2]             8\n",
            "8   [3, 5, 3, 0, 5, 6, 1, 2]             8\n",
            "9   [3, 0, 3, 4, 5, 5, 6, 5]             8\n",
            "10  [4, 6, 3, 3, 3, 5, 3, 5]             8\n",
            "11  [0, 1, 1, 5, 2, 3, 2, 0]             9\n",
            "12  [6, 3, 0, 0, 3, 2, 5, 5]            10\n",
            "13  [4, 1, 0, 2, 4, 0, 2, 7]            10\n",
            "14  [6, 7, 1, 6, 5, 1, 7, 1]            12\n",
            "Starting the Genetic Computing:2020-07-07 05:56:26.607228\n",
            "Ending the Genetic Computing:2020-07-07 05:56:29.154767 after loops : 999\n",
            "Best solution: [7, 6, 5, 4, 3, 2, 1, 0]Best score: 1\n"
          ],
          "name": "stdout"
        }
      ]
    },
    {
      "cell_type": "code",
      "metadata": {
        "id": "CrQyqJne0tbn",
        "colab_type": "code",
        "colab": {
          "base_uri": "https://localhost:8080/",
          "height": 153
        },
        "outputId": "ae0958ac-3f82-4aef-90cb-a409d34c0849"
      },
      "source": [
        "return_board([4, 6, 1, 3, 7, 0, 2, 5])"
      ],
      "execution_count": 7,
      "outputs": [
        {
          "output_type": "execute_result",
          "data": {
            "text/plain": [
              "array([[0., 0., 0., 0., 0., 1., 0., 0.],\n",
              "       [0., 0., 1., 0., 0., 0., 0., 0.],\n",
              "       [0., 0., 0., 0., 0., 0., 1., 0.],\n",
              "       [0., 0., 0., 1., 0., 0., 0., 0.],\n",
              "       [1., 0., 0., 0., 0., 0., 0., 0.],\n",
              "       [0., 0., 0., 0., 0., 0., 0., 1.],\n",
              "       [0., 1., 0., 0., 0., 0., 0., 0.],\n",
              "       [0., 0., 0., 0., 1., 0., 0., 0.]])"
            ]
          },
          "metadata": {
            "tags": []
          },
          "execution_count": 7
        }
      ]
    },
    {
      "cell_type": "code",
      "metadata": {
        "id": "8dSqZCG801pN",
        "colab_type": "code",
        "colab": {
          "base_uri": "https://localhost:8080/",
          "height": 34
        },
        "outputId": "c4e0c219-c29a-4d5d-e819-49181954b24d"
      },
      "source": [
        "fitment([7, 5, 1, 3, 0, 2, 7, 4])"
      ],
      "execution_count": 8,
      "outputs": [
        {
          "output_type": "execute_result",
          "data": {
            "text/plain": [
              "5"
            ]
          },
          "metadata": {
            "tags": []
          },
          "execution_count": 8
        }
      ]
    },
    {
      "cell_type": "code",
      "metadata": {
        "id": "NAN3bSHm26Ws",
        "colab_type": "code",
        "colab": {
          "base_uri": "https://localhost:8080/",
          "height": 153
        },
        "outputId": "c7b8bf34-a79a-467a-f775-3e8fbadec4e7"
      },
      "source": [
        "return_board([4, 6, 1, 5, 2, 0, 7, 3])"
      ],
      "execution_count": 9,
      "outputs": [
        {
          "output_type": "execute_result",
          "data": {
            "text/plain": [
              "array([[0., 0., 0., 0., 0., 1., 0., 0.],\n",
              "       [0., 0., 1., 0., 0., 0., 0., 0.],\n",
              "       [0., 0., 0., 0., 1., 0., 0., 0.],\n",
              "       [0., 0., 0., 0., 0., 0., 0., 1.],\n",
              "       [1., 0., 0., 0., 0., 0., 0., 0.],\n",
              "       [0., 0., 0., 1., 0., 0., 0., 0.],\n",
              "       [0., 1., 0., 0., 0., 0., 0., 0.],\n",
              "       [0., 0., 0., 0., 0., 0., 1., 0.]])"
            ]
          },
          "metadata": {
            "tags": []
          },
          "execution_count": 9
        }
      ]
    },
    {
      "cell_type": "code",
      "metadata": {
        "id": "DOO9KpxKFzey",
        "colab_type": "code",
        "colab": {
          "base_uri": "https://localhost:8080/",
          "height": 669
        },
        "outputId": "259de3fa-8a66-4a49-df30-a21cc8888f1a"
      },
      "source": [
        "probDataFrame.head(20)"
      ],
      "execution_count": 10,
      "outputs": [
        {
          "output_type": "execute_result",
          "data": {
            "text/html": [
              "<div>\n",
              "<style scoped>\n",
              "    .dataframe tbody tr th:only-of-type {\n",
              "        vertical-align: middle;\n",
              "    }\n",
              "\n",
              "    .dataframe tbody tr th {\n",
              "        vertical-align: top;\n",
              "    }\n",
              "\n",
              "    .dataframe thead th {\n",
              "        text-align: right;\n",
              "    }\n",
              "</style>\n",
              "<table border=\"1\" class=\"dataframe\">\n",
              "  <thead>\n",
              "    <tr style=\"text-align: right;\">\n",
              "      <th></th>\n",
              "      <th>String</th>\n",
              "      <th>FitnessScore</th>\n",
              "    </tr>\n",
              "  </thead>\n",
              "  <tbody>\n",
              "    <tr>\n",
              "      <th>0</th>\n",
              "      <td>[1, 6, 2, 5, 7, 0, 4, 3]</td>\n",
              "      <td>1</td>\n",
              "    </tr>\n",
              "    <tr>\n",
              "      <th>1</th>\n",
              "      <td>[1, 6, 2, 5, 7, 0, 4, 3]</td>\n",
              "      <td>1</td>\n",
              "    </tr>\n",
              "    <tr>\n",
              "      <th>2</th>\n",
              "      <td>[1, 6, 2, 5, 7, 0, 4, 3]</td>\n",
              "      <td>1</td>\n",
              "    </tr>\n",
              "    <tr>\n",
              "      <th>3</th>\n",
              "      <td>[1, 6, 2, 5, 7, 0, 4, 3]</td>\n",
              "      <td>1</td>\n",
              "    </tr>\n",
              "    <tr>\n",
              "      <th>4</th>\n",
              "      <td>[1, 6, 2, 5, 7, 0, 4, 3]</td>\n",
              "      <td>1</td>\n",
              "    </tr>\n",
              "    <tr>\n",
              "      <th>5</th>\n",
              "      <td>[1, 6, 2, 5, 7, 0, 4, 3]</td>\n",
              "      <td>1</td>\n",
              "    </tr>\n",
              "    <tr>\n",
              "      <th>6</th>\n",
              "      <td>[1, 6, 2, 5, 7, 0, 4, 3]</td>\n",
              "      <td>1</td>\n",
              "    </tr>\n",
              "    <tr>\n",
              "      <th>7</th>\n",
              "      <td>[1, 6, 2, 5, 7, 0, 4, 3]</td>\n",
              "      <td>1</td>\n",
              "    </tr>\n",
              "    <tr>\n",
              "      <th>8</th>\n",
              "      <td>[1, 6, 2, 5, 7, 0, 4, 3]</td>\n",
              "      <td>1</td>\n",
              "    </tr>\n",
              "    <tr>\n",
              "      <th>9</th>\n",
              "      <td>[1, 6, 2, 5, 7, 0, 4, 3]</td>\n",
              "      <td>1</td>\n",
              "    </tr>\n",
              "    <tr>\n",
              "      <th>10</th>\n",
              "      <td>[1, 6, 2, 5, 7, 0, 4, 3]</td>\n",
              "      <td>1</td>\n",
              "    </tr>\n",
              "    <tr>\n",
              "      <th>11</th>\n",
              "      <td>[1, 6, 2, 5, 7, 0, 4, 3]</td>\n",
              "      <td>1</td>\n",
              "    </tr>\n",
              "    <tr>\n",
              "      <th>12</th>\n",
              "      <td>[1, 6, 2, 5, 7, 0, 4, 3]</td>\n",
              "      <td>1</td>\n",
              "    </tr>\n",
              "    <tr>\n",
              "      <th>13</th>\n",
              "      <td>[1, 6, 2, 5, 7, 0, 4, 3]</td>\n",
              "      <td>1</td>\n",
              "    </tr>\n",
              "    <tr>\n",
              "      <th>14</th>\n",
              "      <td>[1, 6, 2, 5, 7, 0, 4, 3]</td>\n",
              "      <td>1</td>\n",
              "    </tr>\n",
              "    <tr>\n",
              "      <th>15</th>\n",
              "      <td>[1, 6, 2, 5, 7, 0, 4, 3]</td>\n",
              "      <td>1</td>\n",
              "    </tr>\n",
              "    <tr>\n",
              "      <th>16</th>\n",
              "      <td>[1, 6, 2, 5, 7, 0, 4, 3]</td>\n",
              "      <td>1</td>\n",
              "    </tr>\n",
              "    <tr>\n",
              "      <th>17</th>\n",
              "      <td>[1, 6, 2, 5, 7, 0, 4, 3]</td>\n",
              "      <td>1</td>\n",
              "    </tr>\n",
              "    <tr>\n",
              "      <th>18</th>\n",
              "      <td>[1, 6, 2, 5, 7, 0, 4, 3]</td>\n",
              "      <td>1</td>\n",
              "    </tr>\n",
              "    <tr>\n",
              "      <th>19</th>\n",
              "      <td>[1, 6, 2, 5, 7, 0, 4, 3]</td>\n",
              "      <td>1</td>\n",
              "    </tr>\n",
              "  </tbody>\n",
              "</table>\n",
              "</div>"
            ],
            "text/plain": [
              "                      String  FitnessScore\n",
              "0   [1, 6, 2, 5, 7, 0, 4, 3]             1\n",
              "1   [1, 6, 2, 5, 7, 0, 4, 3]             1\n",
              "2   [1, 6, 2, 5, 7, 0, 4, 3]             1\n",
              "3   [1, 6, 2, 5, 7, 0, 4, 3]             1\n",
              "4   [1, 6, 2, 5, 7, 0, 4, 3]             1\n",
              "5   [1, 6, 2, 5, 7, 0, 4, 3]             1\n",
              "6   [1, 6, 2, 5, 7, 0, 4, 3]             1\n",
              "7   [1, 6, 2, 5, 7, 0, 4, 3]             1\n",
              "8   [1, 6, 2, 5, 7, 0, 4, 3]             1\n",
              "9   [1, 6, 2, 5, 7, 0, 4, 3]             1\n",
              "10  [1, 6, 2, 5, 7, 0, 4, 3]             1\n",
              "11  [1, 6, 2, 5, 7, 0, 4, 3]             1\n",
              "12  [1, 6, 2, 5, 7, 0, 4, 3]             1\n",
              "13  [1, 6, 2, 5, 7, 0, 4, 3]             1\n",
              "14  [1, 6, 2, 5, 7, 0, 4, 3]             1\n",
              "15  [1, 6, 2, 5, 7, 0, 4, 3]             1\n",
              "16  [1, 6, 2, 5, 7, 0, 4, 3]             1\n",
              "17  [1, 6, 2, 5, 7, 0, 4, 3]             1\n",
              "18  [1, 6, 2, 5, 7, 0, 4, 3]             1\n",
              "19  [1, 6, 2, 5, 7, 0, 4, 3]             1"
            ]
          },
          "metadata": {
            "tags": []
          },
          "execution_count": 10
        }
      ]
    },
    {
      "cell_type": "code",
      "metadata": {
        "id": "Mmr71g_y3Iz6",
        "colab_type": "code",
        "colab": {
          "base_uri": "https://localhost:8080/",
          "height": 34
        },
        "outputId": "cd9d57c0-71ad-4ffb-d0ca-2e0acda49061"
      },
      "source": [
        "fitment([6, 3, 7, 0, 4, 7, 7, 1])"
      ],
      "execution_count": 11,
      "outputs": [
        {
          "output_type": "execute_result",
          "data": {
            "text/plain": [
              "5"
            ]
          },
          "metadata": {
            "tags": []
          },
          "execution_count": 11
        }
      ]
    }
  ]
}
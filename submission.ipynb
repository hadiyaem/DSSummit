{
 "cells": [
  {
   "cell_type": "code",
   "execution_count": 2,
   "metadata": {},
   "outputs": [],
   "source": [
    "import requests"
   ]
  },
  {
   "cell_type": "code",
   "execution_count": 3,
   "metadata": {},
   "outputs": [
    {
     "name": "stdout",
     "output_type": "stream",
     "text": [
      "{\"No Of Attempts lapsed out of 3\": 1, \"submittedConfiguration\": [4, 6, 1, 5, 2, 0, 7, 3], \"configurationStatus\": \"Valid\", \"configurationScore\": 100.0}\n"
     ]
    }
   ],
   "source": [
    "url='https://lf8q0kx152.execute-api.us-east-2.amazonaws.com/default/computeFitnessScore'\n",
    "\n",
    "x = requests.post(url,json={\"qconfig\": \"4 6 1 5 2 0 7 3\",\"userID\":106399, \"githubLink\":\"https://github.com/shrikant78/DSSummit/blob/master/8%20queens%20GA.ipynb\"})\n",
    "\n",
    "print(x.text)"
   ]
  }
 ],
 "metadata": {
  "kernelspec": {
   "display_name": "Python 3",
   "language": "python",
   "name": "python3"
  },
  "language_info": {
   "codemirror_mode": {
    "name": "ipython",
    "version": 3
   },
   "file_extension": ".py",
   "mimetype": "text/x-python",
   "name": "python",
   "nbconvert_exporter": "python",
   "pygments_lexer": "ipython3",
   "version": "3.7.4"
  }
 },
 "nbformat": 4,
 "nbformat_minor": 2
}

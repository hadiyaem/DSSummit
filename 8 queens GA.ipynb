{
 "cells": [
  {
   "cell_type": "code",
   "execution_count": 167,
   "metadata": {},
   "outputs": [],
   "source": [
    "import random\n",
    "import numpy as np\n",
    "from numpy.random import choice\n",
    "import pandas as pd"
   ]
  },
  {
   "cell_type": "code",
   "execution_count": 268,
   "metadata": {},
   "outputs": [],
   "source": [
    "def initial_solutions(pop):\n",
    "    secure_random = random.SystemRandom()\n",
    "    totalPopulation = pop\n",
    "    populationData = []\n",
    "    fitnessData = []\n",
    "    secure_random = random.SystemRandom()\n",
    "    for outloop in range(totalPopulation):\n",
    "        randomData = []\n",
    "        for inloop in range(8):\n",
    "            selectedData = secure_random.choice([0,1,2,3,4,5,6,7])\n",
    "            randomData.append(selectedData)\n",
    "        populationData.append(randomData)\n",
    "        fitnessData.append(fitment(randomData))\n",
    "    probDataFrame = pd.DataFrame({'String':populationData,'FitnessScore':fitnessData})\n",
    "    probDataFrame = probDataFrame.sort_values(['FitnessScore'],ascending=True)\n",
    "    probDataFrame = probDataFrame.reset_index(drop=True)\n",
    "    return probDataFrame, populationData, fitnessData"
   ]
  },
  {
   "cell_type": "code",
   "execution_count": 138,
   "metadata": {},
   "outputs": [],
   "source": [
    "def fitment(array):\n",
    "    board = np.zeros(shape=(8, 8))\n",
    "    #example = [0, 7, 0, 3, 1, 2, 2, 4]\n",
    "    for i in range(8):\n",
    "        board[array[i],i]=1   \n",
    "    row_count=0\n",
    "    fitness_score = 0\n",
    "    #check the columns and rows\n",
    "    for row_num in range(8):\n",
    "        row_count = 0\n",
    "        for col_num in range(8):\n",
    "            row_count = board[row_num,col_num] + row_count\n",
    "        if row_count > 1 :\n",
    "            fitness_score = fitness_score+int(row_count)\n",
    "    #print (fitness_score)\n",
    "    fitness_score = fitness_score + diaganoal_check(board)\n",
    "    #print (fitness_score)\n",
    "    return fitness_score"
   ]
  },
  {
   "cell_type": "code",
   "execution_count": 104,
   "metadata": {},
   "outputs": [],
   "source": [
    "def return_board(array):\n",
    "    board = np.zeros(shape=(8, 8))\n",
    "    #example = [0, 7, 0, 3, 1, 2, 2, 4]\n",
    "    for i in range(8):\n",
    "        board[array[i],i]=1\n",
    "    return board"
   ]
  },
  {
   "cell_type": "code",
   "execution_count": 105,
   "metadata": {},
   "outputs": [],
   "source": [
    "def diaganoal_check(board):\n",
    "#Left to right diagonal\n",
    "    diagonal_score = 0\n",
    "    if (board[6,0]+board[7,1]) > 1 :\n",
    "        diagonal_score = diagonal_score +1\n",
    "    if (board[5,0]+board[6,1]+board[7,2]) > 1:\n",
    "        diagonal_score = diagonal_score +1\n",
    "    if (board[4,0]+board[5,1]+board[6,2]+board[7,3]) > 1:\n",
    "        diagonal_score = diagonal_score +1\n",
    "    if (board[3,0]+board[4,1]+board[5,2]+board[6,3]+board[7,4]) > 1:\n",
    "        diagonal_score = diagonal_score +1\n",
    "    if (board[2,0]+board[3,1]+board[4,2]+board[5,3]+board[6,4]+board[7,5]) > 1:\n",
    "        diagonal_score = diagonal_score +1\n",
    "    if (board[1,0]+board[2,1]+board[3,2]+board[4,3]+board[5,4]+board[6,5]+board[7,6]) > 1:\n",
    "        diagonal_score = diagonal_score +1\n",
    "    if (board[0,0]+board[1,1]+board[2,2]+board[3,3]+board[4,4]+board[5,5]+board[6,6]+board[7,7]) > 1:\n",
    "        diagonal_score = diagonal_score +1\n",
    "    if (board[0,1]+board[1,2]+board[2,3]+board[3,4]+board[4,5]+board[5,6]+board[6,7]) > 1:\n",
    "        diagonal_score = diagonal_score +1\n",
    "    if (board[0,2]+board[1,3]+board[2,4]+board[3,5]+board[4,6]+board[5,7]) > 1:\n",
    "        diagonal_score = diagonal_score +1\n",
    "    if (board[0,3]+board[1,4]+board[2,5]+board[3,6]+board[4,7]) > 1:\n",
    "        diagonal_score = diagonal_score +1\n",
    "    if (board[0,4]+board[1,5]+board[2,6]+board[3,7]) > 1:\n",
    "        diagonal_score = diagonal_score +1\n",
    "    if (board[0,5]+board[1,6]+board[2,7]) > 1:\n",
    "        diagonal_score = diagonal_score +1\n",
    "    if (board[0,6]+board[1,7]) > 1:\n",
    "        diagonal_score = diagonal_score +1\n",
    "#Right to left \n",
    "    if (board[0,1]+board[1,0]) > 1:\n",
    "        diagonal_score = diagonal_score +1\n",
    "    if (board[0,2]+board[1,1]+board[2,0]) > 1:\n",
    "        diagonal_score = diagonal_score +1\n",
    "    if (board[0,3]+board[1,2]+board[2,1]+board[3,0]) > 1:\n",
    "        diagonal_score = diagonal_score +1\n",
    "    if (board[0,4]+board[1,3]+board[2,2]+board[3,1]+board[4,0]) > 1:\n",
    "        diagonal_score = diagonal_score +1\n",
    "    if (board[0,5]+board[1,4]+board[2,3]+board[3,2]+board[4,1]+board[5,0]) > 1:\n",
    "        diagonal_score = diagonal_score +1\n",
    "    if (board[0,6]+board[1,5]+board[2,4]+board[3,3]+board[4,2]+board[5,1]+board[6,0]) > 1:\n",
    "        diagonal_score = diagonal_score +1\n",
    "    if (board[0,7]+board[1,6]+board[2,5]+board[3,4]+board[4,3]+board[5,2]+board[6,1]+board[7,0]) > 1:\n",
    "        diagonal_score = diagonal_score +1\n",
    "    if (board[1,7]+board[2,6]+board[3,5]+board[4,4]+board[5,3]+board[6,2]+board[7,1]) > 1:\n",
    "        diagonal_score = diagonal_score +1\n",
    "    if (board[2,7]+board[3,6]+board[4,5]+board[5,4]+board[6,3]+board[7,2]) > 1:\n",
    "        diagonal_score = diagonal_score +1\n",
    "    if (board[3,7]+board[4,6]+board[5,5]+board[6,4]+board[7,3]) > 1:\n",
    "        diagonal_score = diagonal_score +1\n",
    "    if (board[4,7]+board[5,6]+board[6,5]+board[7,4]) > 1:\n",
    "        diagonal_score = diagonal_score +1\n",
    "    if (board[5,7]+board[6,6]+board[7,5]) > 1:\n",
    "        diagonal_score = diagonal_score +1\n",
    "    return diagonal_score"
   ]
  },
  {
   "cell_type": "code",
   "execution_count": 283,
   "metadata": {},
   "outputs": [
    {
     "name": "stdout",
     "output_type": "stream",
     "text": [
      "Random Best solution1: [4, 1, 1, 5, 2, 2, 0, 3] with score 5\n",
      "Random Best solution2: [2, 7, 0, 2, 5, 4, 6, 1] with score 6\n",
      "Starting the Genetic Computing:2020-07-01 13:23:26.916189\n",
      "winner [[0. 0. 0. 0. 0. 1. 0. 0.]\n",
      " [0. 0. 1. 0. 0. 0. 0. 0.]\n",
      " [0. 0. 0. 0. 1. 0. 0. 0.]\n",
      " [0. 0. 0. 0. 0. 0. 0. 1.]\n",
      " [1. 0. 0. 0. 0. 0. 0. 0.]\n",
      " [0. 0. 0. 1. 0. 0. 0. 0.]\n",
      " [0. 1. 0. 0. 0. 0. 0. 0.]\n",
      " [0. 0. 0. 0. 0. 0. 1. 0.]]   [[1. 0. 0. 0. 0. 1. 0. 0.]\n",
      " [0. 0. 1. 0. 0. 0. 0. 0.]\n",
      " [0. 0. 0. 0. 1. 0. 0. 0.]\n",
      " [0. 0. 0. 0. 0. 0. 0. 1.]\n",
      " [0. 0. 0. 0. 0. 0. 0. 0.]\n",
      " [0. 0. 0. 1. 0. 0. 0. 0.]\n",
      " [0. 1. 0. 0. 0. 0. 0. 0.]\n",
      " [0. 0. 0. 0. 0. 0. 1. 0.]]\n",
      "Ending the Genetic Computing:2020-07-01 13:23:27.068781 after loops : 35\n",
      "Best solution: [4, 6, 1, 5, 2, 0, 7, 3]Best score: 0\n"
     ]
    }
   ],
   "source": [
    "#This is execution\n",
    "from datetime import datetime\n",
    "target = 0\n",
    "crossOverPoint = 4\n",
    "generationCount = 1000\n",
    "initial_population = 15\n",
    "#Initialize solutions\n",
    "(probDataFrame, populationData, fitnessData) = initial_solutions(initial_population)\n",
    "print(\"Random Best solution1: \" + str(probDataFrame[0:1][\"String\"].values[0]) + \" with score \" + str(probDataFrame[0:1][\"FitnessScore\"].values[0]))\n",
    "print(\"Random Best solution2: \" + str(probDataFrame[1:2][\"String\"].values[0]) + \" with score \" + str(probDataFrame[1:2][\"FitnessScore\"].values[0]))\n",
    "timeNow = datetime.now()\n",
    "print(\"Starting the Genetic Computing:\" + str(timeNow))\n",
    "#Start GA with crossover and mutation\n",
    "for loop in range(generationCount):\n",
    "    boards=[]\n",
    "    boards.append(probDataFrame[0:1][\"String\"].values[0])\n",
    "    boards.append(probDataFrame[1:2][\"String\"].values[0])\n",
    "    parent1_score = fitment(boards[0])\n",
    "    parent2_score = fitment(boards[1])\n",
    "    if (parent1_score==target or parent2_score==target ):\n",
    "        print('winner', return_board(boards[0]), ' ',return_board(boards[1]))\n",
    "        break\n",
    "    #crossover by creating 2 variants from parents\n",
    "    child1 = boards[0][0:crossOverPoint]+boards[1][crossOverPoint:]\n",
    "    child2 = boards[1][0:crossOverPoint]+boards[0][crossOverPoint:]\n",
    "    #Mutating one random digit\n",
    "    child1[random.randint(0,7)] = secure_random.choice([0,1,2,3,4,5,6,7])\n",
    "    child2[random.randint(0,7)] = secure_random.choice([0,1,2,3,4,5,6,7])\n",
    "    #print('loop :',loop,' Child 1 : ' , child1, fitment(child1), ' Chilld2 : ', child2, fitment(child2))\n",
    "    child1_score = fitment(child1)\n",
    "    child2_score = fitment(child2)\n",
    "    #if ( child1_score < parent1_score or  child1_score < parent2_score) :\n",
    "    #   populationData.append(child1)\n",
    "    #   fitnessData.append(child1_score)\n",
    "    #   print('loop :',loop,'Appending Child 1 : ' ,child1, child1_score)\n",
    "    #if ( child2_score < parent1_score or child2_score < parent2_score) :\n",
    "    #   populationData.append(child1)\n",
    "    #   fitnessData.append(child1_score)\n",
    "    #   print('loop :',loop,'Appending Child 2 : ' ,child2, child2_score)    \n",
    "    \n",
    "    populationData.append(child1)\n",
    "    fitnessData.append(child1_score)\n",
    "    populationData.append(child2)\n",
    "    fitnessData.append(child2_score)\n",
    "    probDataFrame = pd.DataFrame({'String':populationData,'FitnessScore':fitnessData})\n",
    "    probDataFrame = probDataFrame.sort_values(['FitnessScore'],ascending=True)\n",
    "    probDataFrame = probDataFrame.reset_index(drop=True)\n",
    "\n",
    "timeNow = datetime.now()\n",
    "print(\"Ending the Genetic Computing:\" + str(timeNow) +' after loops : ' + str(loop))\n",
    "print(\"Best solution: \" + str(boards[0]) + \"Best score: \" + str(parent1_score) )"
   ]
  },
  {
   "cell_type": "code",
   "execution_count": 284,
   "metadata": {},
   "outputs": [
    {
     "data": {
      "text/plain": [
       "array([[0., 0., 0., 0., 0., 1., 0., 0.],\n",
       "       [0., 0., 1., 0., 0., 0., 0., 0.],\n",
       "       [0., 0., 0., 0., 1., 0., 0., 0.],\n",
       "       [0., 0., 0., 0., 0., 0., 0., 1.],\n",
       "       [1., 0., 0., 0., 0., 0., 0., 0.],\n",
       "       [0., 0., 0., 1., 0., 0., 0., 0.],\n",
       "       [0., 1., 0., 0., 0., 0., 0., 0.],\n",
       "       [0., 0., 0., 0., 0., 0., 1., 0.]])"
      ]
     },
     "execution_count": 284,
     "metadata": {},
     "output_type": "execute_result"
    }
   ],
   "source": [
    "return_board([4, 6, 1, 5, 2, 0, 7, 3])"
   ]
  },
  {
   "cell_type": "code",
   "execution_count": 285,
   "metadata": {},
   "outputs": [
    {
     "data": {
      "text/plain": [
       "0"
      ]
     },
     "execution_count": 285,
     "metadata": {},
     "output_type": "execute_result"
    }
   ],
   "source": [
    "fitment([4, 6, 1, 5, 2, 0, 7, 3])"
   ]
  },
  {
   "cell_type": "code",
   "execution_count": null,
   "metadata": {},
   "outputs": [],
   "source": []
  },
  {
   "cell_type": "code",
   "execution_count": null,
   "metadata": {},
   "outputs": [],
   "source": []
  },
  {
   "cell_type": "code",
   "execution_count": null,
   "metadata": {},
   "outputs": [],
   "source": []
  },
  {
   "cell_type": "code",
   "execution_count": null,
   "metadata": {},
   "outputs": [],
   "source": []
  },
  {
   "cell_type": "code",
   "execution_count": null,
   "metadata": {},
   "outputs": [],
   "source": []
  },
  {
   "cell_type": "code",
   "execution_count": null,
   "metadata": {},
   "outputs": [],
   "source": []
  },
  {
   "cell_type": "code",
   "execution_count": null,
   "metadata": {},
   "outputs": [],
   "source": [
    "\n"
   ]
  },
  {
   "cell_type": "code",
   "execution_count": null,
   "metadata": {},
   "outputs": [],
   "source": []
  },
  {
   "cell_type": "code",
   "execution_count": null,
   "metadata": {},
   "outputs": [],
   "source": []
  },
  {
   "cell_type": "code",
   "execution_count": null,
   "metadata": {},
   "outputs": [],
   "source": []
  },
  {
   "cell_type": "code",
   "execution_count": null,
   "metadata": {},
   "outputs": [],
   "source": []
  },
  {
   "cell_type": "code",
   "execution_count": null,
   "metadata": {},
   "outputs": [],
   "source": []
  },
  {
   "cell_type": "code",
   "execution_count": null,
   "metadata": {},
   "outputs": [],
   "source": []
  },
  {
   "cell_type": "code",
   "execution_count": null,
   "metadata": {},
   "outputs": [],
   "source": []
  },
  {
   "cell_type": "code",
   "execution_count": null,
   "metadata": {},
   "outputs": [],
   "source": []
  },
  {
   "cell_type": "code",
   "execution_count": null,
   "metadata": {},
   "outputs": [],
   "source": []
  },
  {
   "cell_type": "code",
   "execution_count": null,
   "metadata": {},
   "outputs": [],
   "source": []
  },
  {
   "cell_type": "code",
   "execution_count": null,
   "metadata": {},
   "outputs": [],
   "source": []
  },
  {
   "cell_type": "code",
   "execution_count": null,
   "metadata": {},
   "outputs": [],
   "source": []
  },
  {
   "cell_type": "code",
   "execution_count": null,
   "metadata": {},
   "outputs": [],
   "source": []
  },
  {
   "cell_type": "code",
   "execution_count": null,
   "metadata": {},
   "outputs": [],
   "source": []
  },
  {
   "cell_type": "code",
   "execution_count": null,
   "metadata": {},
   "outputs": [],
   "source": []
  },
  {
   "cell_type": "code",
   "execution_count": null,
   "metadata": {},
   "outputs": [],
   "source": []
  },
  {
   "cell_type": "code",
   "execution_count": null,
   "metadata": {},
   "outputs": [],
   "source": []
  },
  {
   "cell_type": "code",
   "execution_count": null,
   "metadata": {},
   "outputs": [],
   "source": []
  },
  {
   "cell_type": "code",
   "execution_count": null,
   "metadata": {},
   "outputs": [],
   "source": []
  },
  {
   "cell_type": "code",
   "execution_count": null,
   "metadata": {},
   "outputs": [],
   "source": []
  },
  {
   "cell_type": "code",
   "execution_count": null,
   "metadata": {},
   "outputs": [],
   "source": []
  },
  {
   "cell_type": "code",
   "execution_count": null,
   "metadata": {},
   "outputs": [],
   "source": []
  },
  {
   "cell_type": "code",
   "execution_count": null,
   "metadata": {},
   "outputs": [],
   "source": []
  },
  {
   "cell_type": "code",
   "execution_count": null,
   "metadata": {},
   "outputs": [],
   "source": []
  },
  {
   "cell_type": "code",
   "execution_count": null,
   "metadata": {},
   "outputs": [],
   "source": []
  }
 ],
 "metadata": {
  "kernelspec": {
   "display_name": "Python 3",
   "language": "python",
   "name": "python3"
  },
  "language_info": {
   "codemirror_mode": {
    "name": "ipython",
    "version": 3
   },
   "file_extension": ".py",
   "mimetype": "text/x-python",
   "name": "python",
   "nbconvert_exporter": "python",
   "pygments_lexer": "ipython3",
   "version": "3.7.4"
  }
 },
 "nbformat": 4,
 "nbformat_minor": 2
}
